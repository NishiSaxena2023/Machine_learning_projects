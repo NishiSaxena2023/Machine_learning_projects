{
  "nbformat": 4,
  "nbformat_minor": 0,
  "metadata": {
    "colab": {
      "provenance": []
    },
    "kernelspec": {
      "name": "python3",
      "display_name": "Python 3"
    },
    "language_info": {
      "name": "python"
    }
  },
  "cells": [
    {
      "cell_type": "code",
      "execution_count": 1,
      "metadata": {
        "id": "N1gWSrYm0shU"
      },
      "outputs": [],
      "source": [
        "import numpy as np\n",
        "import matplotlib.pyplot as plt\n",
        "import pandas as pd\n",
        "import requests\n",
        "url=\"https://raw.githubusercontent.com/NishiSaxena2023/gilbert_projects/main/National_waterways_gilbert.csv\"\n",
        "\n",
        "\n"
      ]
    },
    {
      "cell_type": "code",
      "source": [
        "df = pd.read_csv(url)\n",
        "df\n",
        "X=df['YEAR']\n",
        "Y1=df['National Waterways- I']\n",
        "Y2=df['National Waterways- II']\n",
        "Y3=df['National Waterways-III']"
      ],
      "metadata": {
        "id": "zaFtGidDBCic"
      },
      "execution_count": 2,
      "outputs": []
    },
    {
      "cell_type": "code",
      "source": [
        "df.head()"
      ],
      "metadata": {
        "id": "kvCBAfXTu3bO",
        "outputId": "7d157f22-a186-4adc-f12e-ab1ac327c061",
        "colab": {
          "base_uri": "https://localhost:8080/",
          "height": 206
        }
      },
      "execution_count": 3,
      "outputs": [
        {
          "output_type": "execute_result",
          "data": {
            "text/plain": [
              "      YEAR  National Waterways- I  National Waterways- II  \\\n",
              "0  2003-04                   1596                     296   \n",
              "1  2004-05                   3119                     381   \n",
              "2  2005-06                   4109                     322   \n",
              "3  2006-07                   5803                    1728   \n",
              "4  2007-08                   7092                     422   \n",
              "\n",
              "   National Waterways-III  Total  \n",
              "0                     219   2111  \n",
              "1                     154   3654  \n",
              "2                     169   4600  \n",
              "3                     149   7680  \n",
              "4                      89   7603  "
            ],
            "text/html": [
              "\n",
              "  <div id=\"df-3713a7c6-f60c-4f03-80ae-be6fb53cc26b\" class=\"colab-df-container\">\n",
              "    <div>\n",
              "<style scoped>\n",
              "    .dataframe tbody tr th:only-of-type {\n",
              "        vertical-align: middle;\n",
              "    }\n",
              "\n",
              "    .dataframe tbody tr th {\n",
              "        vertical-align: top;\n",
              "    }\n",
              "\n",
              "    .dataframe thead th {\n",
              "        text-align: right;\n",
              "    }\n",
              "</style>\n",
              "<table border=\"1\" class=\"dataframe\">\n",
              "  <thead>\n",
              "    <tr style=\"text-align: right;\">\n",
              "      <th></th>\n",
              "      <th>YEAR</th>\n",
              "      <th>National Waterways- I</th>\n",
              "      <th>National Waterways- II</th>\n",
              "      <th>National Waterways-III</th>\n",
              "      <th>Total</th>\n",
              "    </tr>\n",
              "  </thead>\n",
              "  <tbody>\n",
              "    <tr>\n",
              "      <th>0</th>\n",
              "      <td>2003-04</td>\n",
              "      <td>1596</td>\n",
              "      <td>296</td>\n",
              "      <td>219</td>\n",
              "      <td>2111</td>\n",
              "    </tr>\n",
              "    <tr>\n",
              "      <th>1</th>\n",
              "      <td>2004-05</td>\n",
              "      <td>3119</td>\n",
              "      <td>381</td>\n",
              "      <td>154</td>\n",
              "      <td>3654</td>\n",
              "    </tr>\n",
              "    <tr>\n",
              "      <th>2</th>\n",
              "      <td>2005-06</td>\n",
              "      <td>4109</td>\n",
              "      <td>322</td>\n",
              "      <td>169</td>\n",
              "      <td>4600</td>\n",
              "    </tr>\n",
              "    <tr>\n",
              "      <th>3</th>\n",
              "      <td>2006-07</td>\n",
              "      <td>5803</td>\n",
              "      <td>1728</td>\n",
              "      <td>149</td>\n",
              "      <td>7680</td>\n",
              "    </tr>\n",
              "    <tr>\n",
              "      <th>4</th>\n",
              "      <td>2007-08</td>\n",
              "      <td>7092</td>\n",
              "      <td>422</td>\n",
              "      <td>89</td>\n",
              "      <td>7603</td>\n",
              "    </tr>\n",
              "  </tbody>\n",
              "</table>\n",
              "</div>\n",
              "    <div class=\"colab-df-buttons\">\n",
              "\n",
              "  <div class=\"colab-df-container\">\n",
              "    <button class=\"colab-df-convert\" onclick=\"convertToInteractive('df-3713a7c6-f60c-4f03-80ae-be6fb53cc26b')\"\n",
              "            title=\"Convert this dataframe to an interactive table.\"\n",
              "            style=\"display:none;\">\n",
              "\n",
              "  <svg xmlns=\"http://www.w3.org/2000/svg\" height=\"24px\" viewBox=\"0 -960 960 960\">\n",
              "    <path d=\"M120-120v-720h720v720H120Zm60-500h600v-160H180v160Zm220 220h160v-160H400v160Zm0 220h160v-160H400v160ZM180-400h160v-160H180v160Zm440 0h160v-160H620v160ZM180-180h160v-160H180v160Zm440 0h160v-160H620v160Z\"/>\n",
              "  </svg>\n",
              "    </button>\n",
              "\n",
              "  <style>\n",
              "    .colab-df-container {\n",
              "      display:flex;\n",
              "      gap: 12px;\n",
              "    }\n",
              "\n",
              "    .colab-df-convert {\n",
              "      background-color: #E8F0FE;\n",
              "      border: none;\n",
              "      border-radius: 50%;\n",
              "      cursor: pointer;\n",
              "      display: none;\n",
              "      fill: #1967D2;\n",
              "      height: 32px;\n",
              "      padding: 0 0 0 0;\n",
              "      width: 32px;\n",
              "    }\n",
              "\n",
              "    .colab-df-convert:hover {\n",
              "      background-color: #E2EBFA;\n",
              "      box-shadow: 0px 1px 2px rgba(60, 64, 67, 0.3), 0px 1px 3px 1px rgba(60, 64, 67, 0.15);\n",
              "      fill: #174EA6;\n",
              "    }\n",
              "\n",
              "    .colab-df-buttons div {\n",
              "      margin-bottom: 4px;\n",
              "    }\n",
              "\n",
              "    [theme=dark] .colab-df-convert {\n",
              "      background-color: #3B4455;\n",
              "      fill: #D2E3FC;\n",
              "    }\n",
              "\n",
              "    [theme=dark] .colab-df-convert:hover {\n",
              "      background-color: #434B5C;\n",
              "      box-shadow: 0px 1px 3px 1px rgba(0, 0, 0, 0.15);\n",
              "      filter: drop-shadow(0px 1px 2px rgba(0, 0, 0, 0.3));\n",
              "      fill: #FFFFFF;\n",
              "    }\n",
              "  </style>\n",
              "\n",
              "    <script>\n",
              "      const buttonEl =\n",
              "        document.querySelector('#df-3713a7c6-f60c-4f03-80ae-be6fb53cc26b button.colab-df-convert');\n",
              "      buttonEl.style.display =\n",
              "        google.colab.kernel.accessAllowed ? 'block' : 'none';\n",
              "\n",
              "      async function convertToInteractive(key) {\n",
              "        const element = document.querySelector('#df-3713a7c6-f60c-4f03-80ae-be6fb53cc26b');\n",
              "        const dataTable =\n",
              "          await google.colab.kernel.invokeFunction('convertToInteractive',\n",
              "                                                    [key], {});\n",
              "        if (!dataTable) return;\n",
              "\n",
              "        const docLinkHtml = 'Like what you see? Visit the ' +\n",
              "          '<a target=\"_blank\" href=https://colab.research.google.com/notebooks/data_table.ipynb>data table notebook</a>'\n",
              "          + ' to learn more about interactive tables.';\n",
              "        element.innerHTML = '';\n",
              "        dataTable['output_type'] = 'display_data';\n",
              "        await google.colab.output.renderOutput(dataTable, element);\n",
              "        const docLink = document.createElement('div');\n",
              "        docLink.innerHTML = docLinkHtml;\n",
              "        element.appendChild(docLink);\n",
              "      }\n",
              "    </script>\n",
              "  </div>\n",
              "\n",
              "\n",
              "<div id=\"df-a80be893-7bd4-4eb7-bb38-4b3d1fc95fc7\">\n",
              "  <button class=\"colab-df-quickchart\" onclick=\"quickchart('df-a80be893-7bd4-4eb7-bb38-4b3d1fc95fc7')\"\n",
              "            title=\"Suggest charts\"\n",
              "            style=\"display:none;\">\n",
              "\n",
              "<svg xmlns=\"http://www.w3.org/2000/svg\" height=\"24px\"viewBox=\"0 0 24 24\"\n",
              "     width=\"24px\">\n",
              "    <g>\n",
              "        <path d=\"M19 3H5c-1.1 0-2 .9-2 2v14c0 1.1.9 2 2 2h14c1.1 0 2-.9 2-2V5c0-1.1-.9-2-2-2zM9 17H7v-7h2v7zm4 0h-2V7h2v10zm4 0h-2v-4h2v4z\"/>\n",
              "    </g>\n",
              "</svg>\n",
              "  </button>\n",
              "\n",
              "<style>\n",
              "  .colab-df-quickchart {\n",
              "      --bg-color: #E8F0FE;\n",
              "      --fill-color: #1967D2;\n",
              "      --hover-bg-color: #E2EBFA;\n",
              "      --hover-fill-color: #174EA6;\n",
              "      --disabled-fill-color: #AAA;\n",
              "      --disabled-bg-color: #DDD;\n",
              "  }\n",
              "\n",
              "  [theme=dark] .colab-df-quickchart {\n",
              "      --bg-color: #3B4455;\n",
              "      --fill-color: #D2E3FC;\n",
              "      --hover-bg-color: #434B5C;\n",
              "      --hover-fill-color: #FFFFFF;\n",
              "      --disabled-bg-color: #3B4455;\n",
              "      --disabled-fill-color: #666;\n",
              "  }\n",
              "\n",
              "  .colab-df-quickchart {\n",
              "    background-color: var(--bg-color);\n",
              "    border: none;\n",
              "    border-radius: 50%;\n",
              "    cursor: pointer;\n",
              "    display: none;\n",
              "    fill: var(--fill-color);\n",
              "    height: 32px;\n",
              "    padding: 0;\n",
              "    width: 32px;\n",
              "  }\n",
              "\n",
              "  .colab-df-quickchart:hover {\n",
              "    background-color: var(--hover-bg-color);\n",
              "    box-shadow: 0 1px 2px rgba(60, 64, 67, 0.3), 0 1px 3px 1px rgba(60, 64, 67, 0.15);\n",
              "    fill: var(--button-hover-fill-color);\n",
              "  }\n",
              "\n",
              "  .colab-df-quickchart-complete:disabled,\n",
              "  .colab-df-quickchart-complete:disabled:hover {\n",
              "    background-color: var(--disabled-bg-color);\n",
              "    fill: var(--disabled-fill-color);\n",
              "    box-shadow: none;\n",
              "  }\n",
              "\n",
              "  .colab-df-spinner {\n",
              "    border: 2px solid var(--fill-color);\n",
              "    border-color: transparent;\n",
              "    border-bottom-color: var(--fill-color);\n",
              "    animation:\n",
              "      spin 1s steps(1) infinite;\n",
              "  }\n",
              "\n",
              "  @keyframes spin {\n",
              "    0% {\n",
              "      border-color: transparent;\n",
              "      border-bottom-color: var(--fill-color);\n",
              "      border-left-color: var(--fill-color);\n",
              "    }\n",
              "    20% {\n",
              "      border-color: transparent;\n",
              "      border-left-color: var(--fill-color);\n",
              "      border-top-color: var(--fill-color);\n",
              "    }\n",
              "    30% {\n",
              "      border-color: transparent;\n",
              "      border-left-color: var(--fill-color);\n",
              "      border-top-color: var(--fill-color);\n",
              "      border-right-color: var(--fill-color);\n",
              "    }\n",
              "    40% {\n",
              "      border-color: transparent;\n",
              "      border-right-color: var(--fill-color);\n",
              "      border-top-color: var(--fill-color);\n",
              "    }\n",
              "    60% {\n",
              "      border-color: transparent;\n",
              "      border-right-color: var(--fill-color);\n",
              "    }\n",
              "    80% {\n",
              "      border-color: transparent;\n",
              "      border-right-color: var(--fill-color);\n",
              "      border-bottom-color: var(--fill-color);\n",
              "    }\n",
              "    90% {\n",
              "      border-color: transparent;\n",
              "      border-bottom-color: var(--fill-color);\n",
              "    }\n",
              "  }\n",
              "</style>\n",
              "\n",
              "  <script>\n",
              "    async function quickchart(key) {\n",
              "      const quickchartButtonEl =\n",
              "        document.querySelector('#' + key + ' button');\n",
              "      quickchartButtonEl.disabled = true;  // To prevent multiple clicks.\n",
              "      quickchartButtonEl.classList.add('colab-df-spinner');\n",
              "      try {\n",
              "        const charts = await google.colab.kernel.invokeFunction(\n",
              "            'suggestCharts', [key], {});\n",
              "      } catch (error) {\n",
              "        console.error('Error during call to suggestCharts:', error);\n",
              "      }\n",
              "      quickchartButtonEl.classList.remove('colab-df-spinner');\n",
              "      quickchartButtonEl.classList.add('colab-df-quickchart-complete');\n",
              "    }\n",
              "    (() => {\n",
              "      let quickchartButtonEl =\n",
              "        document.querySelector('#df-a80be893-7bd4-4eb7-bb38-4b3d1fc95fc7 button');\n",
              "      quickchartButtonEl.style.display =\n",
              "        google.colab.kernel.accessAllowed ? 'block' : 'none';\n",
              "    })();\n",
              "  </script>\n",
              "</div>\n",
              "\n",
              "    </div>\n",
              "  </div>\n"
            ],
            "application/vnd.google.colaboratory.intrinsic+json": {
              "type": "dataframe",
              "variable_name": "df",
              "summary": "{\n  \"name\": \"df\",\n  \"rows\": 11,\n  \"fields\": [\n    {\n      \"column\": \"YEAR\",\n      \"properties\": {\n        \"dtype\": \"string\",\n        \"num_unique_values\": 11,\n        \"samples\": [\n          \"2008-09\",\n          \"2003-04\",\n          \"2012-13\"\n        ],\n        \"semantic_type\": \"\",\n        \"description\": \"\"\n      }\n    },\n    {\n      \"column\": \"National Waterways- I\",\n      \"properties\": {\n        \"dtype\": \"number\",\n        \"std\": 5499,\n        \"min\": 1596,\n        \"max\": 18512,\n        \"num_unique_values\": 11,\n        \"samples\": [\n          7068,\n          1596,\n          15119\n        ],\n        \"semantic_type\": \"\",\n        \"description\": \"\"\n      }\n    },\n    {\n      \"column\": \"National Waterways- II\",\n      \"properties\": {\n        \"dtype\": \"number\",\n        \"std\": 440,\n        \"min\": 74,\n        \"max\": 1728,\n        \"num_unique_values\": 11,\n        \"samples\": [\n          142,\n          296,\n          580\n        ],\n        \"semantic_type\": \"\",\n        \"description\": \"\"\n      }\n    },\n    {\n      \"column\": \"National Waterways-III\",\n      \"properties\": {\n        \"dtype\": \"number\",\n        \"std\": 36,\n        \"min\": 89,\n        \"max\": 219,\n        \"num_unique_values\": 11,\n        \"samples\": [\n          109,\n          219,\n          139\n        ],\n        \"semantic_type\": \"\",\n        \"description\": \"\"\n      }\n    },\n    {\n      \"column\": \"Total\",\n      \"properties\": {\n        \"dtype\": \"number\",\n        \"std\": 5528,\n        \"min\": 2111,\n        \"max\": 19222,\n        \"num_unique_values\": 11,\n        \"samples\": [\n          7319,\n          2111,\n          15838\n        ],\n        \"semantic_type\": \"\",\n        \"description\": \"\"\n      }\n    }\n  ]\n}"
            }
          },
          "metadata": {},
          "execution_count": 3
        }
      ]
    },
    {
      "cell_type": "code",
      "source": [
        "df_new=df[['National Waterways- I', 'National Waterways- II',\n",
        "       'National Waterways-III']]\n",
        "df_new\n",
        "matrix=df_new.to_numpy(dtype=float)\n",
        "col1_mean=np.mean(matrix[:,0])\n",
        "col2_mean=np.mean(matrix[:,1])\n",
        "col3_mean=np.mean(matrix[:,2])\n",
        "print(col1_mean)\n",
        "print(col2_mean)\n",
        "print(col3_mean)"
      ],
      "metadata": {
        "id": "D6H6PJA11RCw",
        "colab": {
          "base_uri": "https://localhost:8080/"
        },
        "outputId": "f5eefd74-a8bc-4277-fbcf-43d076116d29"
      },
      "execution_count": 5,
      "outputs": [
        {
          "output_type": "stream",
          "name": "stdout",
          "text": [
            "9060.727272727272\n",
            "520.4545454545455\n",
            "137.72727272727272\n"
          ]
        }
      ]
    },
    {
      "cell_type": "code",
      "source": [],
      "metadata": {
        "id": "K8YHTfZJ-_EX"
      },
      "execution_count": null,
      "outputs": []
    },
    {
      "cell_type": "code",
      "source": [
        "\n",
        "K_matrix=matrix\n",
        "K_matrix[:,0]=K_matrix[:,0]-col1_mean\n",
        "K_matrix[:,1]=K_matrix[:,1]-col2_mean\n",
        "K_matrix[:,2]=K_matrix[:,2]-col3_mean\n",
        "K_matrix"
      ],
      "metadata": {
        "id": "r6elI3Rf7At9",
        "colab": {
          "base_uri": "https://localhost:8080/"
        },
        "outputId": "72f3c544-1015-4f72-da62-f1aa3e05aa9b"
      },
      "execution_count": 6,
      "outputs": [
        {
          "output_type": "execute_result",
          "data": {
            "text/plain": [
              "array([[-7.46472727e+03, -2.24454545e+02,  8.12727273e+01],\n",
              "       [-5.94172727e+03, -1.39454545e+02,  1.62727273e+01],\n",
              "       [-4.95172727e+03, -1.98454545e+02,  3.12727273e+01],\n",
              "       [-3.25772727e+03,  1.20754545e+03,  1.12727273e+01],\n",
              "       [-1.96872727e+03, -9.84545455e+01, -4.87272727e+01],\n",
              "       [-1.99272727e+03, -3.78454545e+02, -2.87272727e+01],\n",
              "       [ 1.34127273e+03, -4.46454545e+02, -4.07272727e+01],\n",
              "       [ 3.24127273e+03,  5.25454545e+01,  4.27272727e+00],\n",
              "       [ 5.48527273e+03,  9.25454545e+01, -5.72727273e+00],\n",
              "       [ 6.05827273e+03,  5.95454545e+01,  1.27272727e+00],\n",
              "       [ 9.45127273e+03,  7.35454545e+01, -2.17272727e+01]])"
            ]
          },
          "metadata": {},
          "execution_count": 6
        }
      ]
    },
    {
      "cell_type": "code",
      "source": [
        "matrix=df_new.to_numpy(dtype=float)\n",
        "matrix"
      ],
      "metadata": {
        "id": "wLEtHg2b7KKs",
        "colab": {
          "base_uri": "https://localhost:8080/"
        },
        "outputId": "41d67148-2cee-4c0b-97ed-9ce557c1f511"
      },
      "execution_count": 7,
      "outputs": [
        {
          "output_type": "execute_result",
          "data": {
            "text/plain": [
              "array([[ 1596.,   296.,   219.],\n",
              "       [ 3119.,   381.,   154.],\n",
              "       [ 4109.,   322.,   169.],\n",
              "       [ 5803.,  1728.,   149.],\n",
              "       [ 7092.,   422.,    89.],\n",
              "       [ 7068.,   142.,   109.],\n",
              "       [10402.,    74.,    97.],\n",
              "       [12302.,   573.,   142.],\n",
              "       [14546.,   613.,   132.],\n",
              "       [15119.,   580.,   139.],\n",
              "       [18512.,   594.,   116.]])"
            ]
          },
          "metadata": {},
          "execution_count": 7
        }
      ]
    },
    {
      "cell_type": "code",
      "source": [
        "x=matrix[:,0]\n",
        "y=matrix[:,1]\n",
        "z=matrix[:,2]\n",
        "print(x)\n",
        "print(y)\n",
        "print(z)"
      ],
      "metadata": {
        "id": "gXlc2rOz7Q87",
        "colab": {
          "base_uri": "https://localhost:8080/"
        },
        "outputId": "bf314467-6b21-44f6-a78b-028f0003bf68"
      },
      "execution_count": 8,
      "outputs": [
        {
          "output_type": "stream",
          "name": "stdout",
          "text": [
            "[ 1596.  3119.  4109.  5803.  7092.  7068. 10402. 12302. 14546. 15119.\n",
            " 18512.]\n",
            "[ 296.  381.  322. 1728.  422.  142.   74.  573.  613.  580.  594.]\n",
            "[219. 154. 169. 149.  89. 109.  97. 142. 132. 139. 116.]\n"
          ]
        }
      ]
    },
    {
      "cell_type": "code",
      "source": [
        "cov_mat=np.stack((x,y,z),axis=0)\n",
        "cov_mat=np.cov(cov_mat)\n",
        "cov_mat"
      ],
      "metadata": {
        "id": "8ngddrUV7REK",
        "colab": {
          "base_uri": "https://localhost:8080/"
        },
        "outputId": "acbffc84-3913-4782-c7c1-07cb124a4a6a"
      },
      "execution_count": 9,
      "outputs": [
        {
          "output_type": "execute_result",
          "data": {
            "text/plain": [
              "array([[ 3.02427818e+07,  1.63589336e+05, -1.01160082e+05],\n",
              "       [ 1.63589336e+05,  1.93990073e+05,  1.89193636e+03],\n",
              "       [-1.01160082e+05,  1.89193636e+03,  1.33581818e+03]])"
            ]
          },
          "metadata": {},
          "execution_count": 9
        }
      ]
    },
    {
      "cell_type": "code",
      "source": [
        "eigen_val,eigen_vector=np.linalg.eig(cov_mat)\n",
        "print(eigen_val)\n",
        "print(eigen_vector)\n",
        "vector_1=eigen_vector[:,0]\n",
        "vector_2=eigen_vector[:,1]\n",
        "vector_3=eigen_vector[:,2]\n",
        "A1=eigen_val[0]\n",
        "A2=eigen_val[1]\n",
        "A3=eigen_val[2]\n",
        "trace=A1+A2+A3\n",
        "A1_percent=(A1/trace)*100\n",
        "A2_percent=(A2/trace)*100\n",
        "A3_percent=(A3/trace)*100\n",
        "print(\"A1%\",A1_percent)\n",
        "print(\"A2%\",A2_percent)\n",
        "print(\"A3%\",A3_percent)\n",
        "vector_1"
      ],
      "metadata": {
        "id": "tvLTeIAU7abr",
        "colab": {
          "base_uri": "https://localhost:8080/"
        },
        "outputId": "a7a65a1e-bfba-4901-9305-cb8ca50238c9"
      },
      "execution_count": 10,
      "outputs": [
        {
          "output_type": "stream",
          "name": "stdout",
          "text": [
            "[3.02440107e+07 1.93130551e+05 9.66469315e+02]\n",
            "[[ 0.99997959  0.00540065  0.00341342]\n",
            " [ 0.00544358 -0.99990461 -0.01269364]\n",
            " [-0.00334454 -0.01271196  0.99991361]]\n",
            "A1% 99.36232231447228\n",
            "A2% 0.6345024903921952\n",
            "A3% 0.003175195135524634\n"
          ]
        },
        {
          "output_type": "execute_result",
          "data": {
            "text/plain": [
              "array([ 0.99997959,  0.00544358, -0.00334454])"
            ]
          },
          "metadata": {},
          "execution_count": 10
        }
      ]
    },
    {
      "cell_type": "code",
      "source": [
        "z=np.matmul(K_matrix,vector_1)\n",
        "print(z)"
      ],
      "metadata": {
        "id": "lOb1l97y7n-T",
        "colab": {
          "base_uri": "https://localhost:8080/"
        },
        "outputId": "c7c9470f-c42f-4990-f112-ae1fe07660fe"
      },
      "execution_count": 11,
      "outputs": [
        {
          "output_type": "stream",
          "name": "stdout",
          "text": [
            "[-7466.06857746 -5942.41956196 -4952.81110653 -3251.12511693\n",
            " -1969.06006709 -1994.65067019  1338.95125575  3241.47831975\n",
            "  5485.68370948  6058.468965    9451.55285019]\n"
          ]
        }
      ]
    },
    {
      "cell_type": "code",
      "source": [
        "import matplotlib.pyplot as plt\n",
        "plt.figure(figsize=(8,5))\n",
        "plt.plot(X,Y1)\n",
        "plt.plot(X,Y2)\n",
        "plt.plot(X,Y3)\n",
        "plt.plot(X, z,\n",
        "         color='red',\n",
        "         linewidth=1.0,\n",
        "         linestyle='--'\n",
        "        )\n",
        "labels=['National_waterway-I','National_waterway-II','National_waterway-III','Redundant']\n",
        "plt.legend(labels)\n",
        "plt.show()"
      ],
      "metadata": {
        "id": "VuYRaoSD7s6o",
        "colab": {
          "base_uri": "https://localhost:8080/",
          "height": 445
        },
        "outputId": "c976b36d-9097-4634-9dcd-9e8d59e5fca5"
      },
      "execution_count": 12,
      "outputs": [
        {
          "output_type": "display_data",
          "data": {
            "text/plain": [
              "<Figure size 800x500 with 1 Axes>"
            ],
            "image/png": "[encoded data removed]"
          },
          "metadata": {}
        }
      ]
    },
    {
      "cell_type": "code",
      "source": [],
      "metadata": {
        "id": "N9kDkqPH-sAA"
      },
      "execution_count": null,
      "outputs": []
    }
  ]
}